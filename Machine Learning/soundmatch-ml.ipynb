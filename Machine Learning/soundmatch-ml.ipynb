{
 "cells": [
  {
   "cell_type": "code",
   "execution_count": 1,
   "id": "bf59116b-7834-4df5-9f9d-16971c5e32e7",
   "metadata": {},
   "outputs": [],
   "source": [
    "import pandas as pd"
   ]
  },
  {
   "cell_type": "code",
   "execution_count": 2,
   "id": "c61402ed-901a-4d9e-8caa-4e9b1dccf3c8",
   "metadata": {},
   "outputs": [],
   "source": [
    "df = pd.read_excel('data/quiz-data.xlsx')"
   ]
  },
  {
   "cell_type": "code",
   "execution_count": 3,
   "id": "8b787f85-5649-4833-8d65-341e3d5fbd48",
   "metadata": {},
   "outputs": [
    {
     "data": {
      "text/html": [
       "<div>\n",
       "<style scoped>\n",
       "    .dataframe tbody tr th:only-of-type {\n",
       "        vertical-align: middle;\n",
       "    }\n",
       "\n",
       "    .dataframe tbody tr th {\n",
       "        vertical-align: top;\n",
       "    }\n",
       "\n",
       "    .dataframe thead th {\n",
       "        text-align: right;\n",
       "    }\n",
       "</style>\n",
       "<table border=\"1\" class=\"dataframe\">\n",
       "  <thead>\n",
       "    <tr style=\"text-align: right;\">\n",
       "      <th></th>\n",
       "      <th>ID</th>\n",
       "      <th>Q1</th>\n",
       "      <th>Q2</th>\n",
       "      <th>Q3</th>\n",
       "      <th>Q4</th>\n",
       "      <th>Q5</th>\n",
       "      <th>Q6</th>\n",
       "      <th>Q7A</th>\n",
       "      <th>Q8A</th>\n",
       "      <th>Q9A</th>\n",
       "      <th>Q10A</th>\n",
       "      <th>Q7B</th>\n",
       "      <th>Q8B1</th>\n",
       "      <th>Q9B1</th>\n",
       "      <th>Q10B1</th>\n",
       "      <th>Q8B2</th>\n",
       "      <th>Q9B2</th>\n",
       "      <th>Q10B2</th>\n",
       "      <th>Genero_final</th>\n",
       "    </tr>\n",
       "  </thead>\n",
       "  <tbody>\n",
       "    <tr>\n",
       "      <th>0</th>\n",
       "      <td>1</td>\n",
       "      <td>A</td>\n",
       "      <td>A</td>\n",
       "      <td>A</td>\n",
       "      <td>A</td>\n",
       "      <td>A</td>\n",
       "      <td>A</td>\n",
       "      <td>A</td>\n",
       "      <td>A</td>\n",
       "      <td>A</td>\n",
       "      <td>A</td>\n",
       "      <td>NULO</td>\n",
       "      <td>NULO</td>\n",
       "      <td>NULO</td>\n",
       "      <td>NULO</td>\n",
       "      <td>NULO</td>\n",
       "      <td>NULO</td>\n",
       "      <td>NULO</td>\n",
       "      <td>Rock</td>\n",
       "    </tr>\n",
       "    <tr>\n",
       "      <th>1</th>\n",
       "      <td>2</td>\n",
       "      <td>A</td>\n",
       "      <td>C</td>\n",
       "      <td>D</td>\n",
       "      <td>A</td>\n",
       "      <td>A</td>\n",
       "      <td>D</td>\n",
       "      <td>A</td>\n",
       "      <td>A</td>\n",
       "      <td>A</td>\n",
       "      <td>A</td>\n",
       "      <td>NULO</td>\n",
       "      <td>NULO</td>\n",
       "      <td>NULO</td>\n",
       "      <td>NULO</td>\n",
       "      <td>NULO</td>\n",
       "      <td>NULO</td>\n",
       "      <td>NULO</td>\n",
       "      <td>Rock</td>\n",
       "    </tr>\n",
       "    <tr>\n",
       "      <th>2</th>\n",
       "      <td>3</td>\n",
       "      <td>A</td>\n",
       "      <td>A</td>\n",
       "      <td>A</td>\n",
       "      <td>A</td>\n",
       "      <td>A</td>\n",
       "      <td>A</td>\n",
       "      <td>C</td>\n",
       "      <td>B</td>\n",
       "      <td>A</td>\n",
       "      <td>B</td>\n",
       "      <td>NULO</td>\n",
       "      <td>NULO</td>\n",
       "      <td>NULO</td>\n",
       "      <td>NULO</td>\n",
       "      <td>NULO</td>\n",
       "      <td>NULO</td>\n",
       "      <td>NULO</td>\n",
       "      <td>Metal</td>\n",
       "    </tr>\n",
       "    <tr>\n",
       "      <th>3</th>\n",
       "      <td>4</td>\n",
       "      <td>A</td>\n",
       "      <td>D</td>\n",
       "      <td>C</td>\n",
       "      <td>C</td>\n",
       "      <td>A</td>\n",
       "      <td>C</td>\n",
       "      <td>C</td>\n",
       "      <td>B</td>\n",
       "      <td>C</td>\n",
       "      <td>B</td>\n",
       "      <td>NULO</td>\n",
       "      <td>NULO</td>\n",
       "      <td>NULO</td>\n",
       "      <td>NULO</td>\n",
       "      <td>NULO</td>\n",
       "      <td>NULO</td>\n",
       "      <td>NULO</td>\n",
       "      <td>Metal</td>\n",
       "    </tr>\n",
       "    <tr>\n",
       "      <th>4</th>\n",
       "      <td>5</td>\n",
       "      <td>B</td>\n",
       "      <td>B</td>\n",
       "      <td>B</td>\n",
       "      <td>B</td>\n",
       "      <td>E</td>\n",
       "      <td>B</td>\n",
       "      <td>B</td>\n",
       "      <td>C</td>\n",
       "      <td>B</td>\n",
       "      <td>C</td>\n",
       "      <td>NULO</td>\n",
       "      <td>NULO</td>\n",
       "      <td>NULO</td>\n",
       "      <td>NULO</td>\n",
       "      <td>NULO</td>\n",
       "      <td>NULO</td>\n",
       "      <td>NULO</td>\n",
       "      <td>Eletronica</td>\n",
       "    </tr>\n",
       "  </tbody>\n",
       "</table>\n",
       "</div>"
      ],
      "text/plain": [
       "   ID Q1 Q2 Q3 Q4 Q5 Q6 Q7A Q8A Q9A Q10A   Q7B  Q8B1  Q9B1 Q10B1  Q8B2  Q9B2  \\\n",
       "0   1  A  A  A  A  A  A   A   A   A    A  NULO  NULO  NULO  NULO  NULO  NULO   \n",
       "1   2  A  C  D  A  A  D   A   A   A    A  NULO  NULO  NULO  NULO  NULO  NULO   \n",
       "2   3  A  A  A  A  A  A   C   B   A    B  NULO  NULO  NULO  NULO  NULO  NULO   \n",
       "3   4  A  D  C  C  A  C   C   B   C    B  NULO  NULO  NULO  NULO  NULO  NULO   \n",
       "4   5  B  B  B  B  E  B   B   C   B    C  NULO  NULO  NULO  NULO  NULO  NULO   \n",
       "\n",
       "  Q10B2 Genero_final  \n",
       "0  NULO         Rock  \n",
       "1  NULO         Rock  \n",
       "2  NULO        Metal  \n",
       "3  NULO        Metal  \n",
       "4  NULO   Eletronica  "
      ]
     },
     "execution_count": 3,
     "metadata": {},
     "output_type": "execute_result"
    }
   ],
   "source": [
    "df.head()"
   ]
  },
  {
   "cell_type": "markdown",
   "id": "0f3a9cf1-712c-4b12-8cf3-09009a86c94d",
   "metadata": {},
   "source": [
    "Como os dados foram gerados manualmente, sendo os valores nulos propositais para esse caso, logo não é necessário que haja limpeza de dados. Sendo assimm, o próximo passo é a divisão dos dados e logo depois o pré-processamento dos dados"
   ]
  },
  {
   "cell_type": "markdown",
   "id": "2eb4d53f-4e68-4647-8b0e-4210c9adf9ea",
   "metadata": {},
   "source": [
    "## Divisão dos dados em treino e teste"
   ]
  },
  {
   "cell_type": "code",
   "execution_count": 4,
   "id": "7dc6f63c-f397-4d21-9a05-84f88bb61a12",
   "metadata": {},
   "outputs": [],
   "source": [
    "df.fillna(\"NULO\", inplace=True)"
   ]
  },
  {
   "cell_type": "code",
   "execution_count": 5,
   "id": "a8dc3c5e-f636-4774-8978-46fe5b16686a",
   "metadata": {},
   "outputs": [
    {
     "data": {
      "text/plain": [
       "(101, 19)"
      ]
     },
     "execution_count": 5,
     "metadata": {},
     "output_type": "execute_result"
    }
   ],
   "source": [
    "df.shape"
   ]
  },
  {
   "cell_type": "code",
   "execution_count": 6,
   "id": "b3f37b44-c204-438d-8028-003f3afe89be",
   "metadata": {},
   "outputs": [
    {
     "data": {
      "text/html": [
       "<div>\n",
       "<style scoped>\n",
       "    .dataframe tbody tr th:only-of-type {\n",
       "        vertical-align: middle;\n",
       "    }\n",
       "\n",
       "    .dataframe tbody tr th {\n",
       "        vertical-align: top;\n",
       "    }\n",
       "\n",
       "    .dataframe thead th {\n",
       "        text-align: right;\n",
       "    }\n",
       "</style>\n",
       "<table border=\"1\" class=\"dataframe\">\n",
       "  <thead>\n",
       "    <tr style=\"text-align: right;\">\n",
       "      <th></th>\n",
       "      <th>Q1</th>\n",
       "      <th>Q2</th>\n",
       "      <th>Q3</th>\n",
       "      <th>Q4</th>\n",
       "      <th>Q5</th>\n",
       "      <th>Q6</th>\n",
       "      <th>Q7A</th>\n",
       "      <th>Q8A</th>\n",
       "      <th>Q9A</th>\n",
       "      <th>Q10A</th>\n",
       "      <th>Q7B</th>\n",
       "      <th>Q8B1</th>\n",
       "      <th>Q9B1</th>\n",
       "      <th>Q10B1</th>\n",
       "      <th>Q8B2</th>\n",
       "      <th>Q9B2</th>\n",
       "      <th>Q10B2</th>\n",
       "    </tr>\n",
       "  </thead>\n",
       "  <tbody>\n",
       "    <tr>\n",
       "      <th>0</th>\n",
       "      <td>A</td>\n",
       "      <td>A</td>\n",
       "      <td>A</td>\n",
       "      <td>A</td>\n",
       "      <td>A</td>\n",
       "      <td>A</td>\n",
       "      <td>A</td>\n",
       "      <td>A</td>\n",
       "      <td>A</td>\n",
       "      <td>A</td>\n",
       "      <td>NULO</td>\n",
       "      <td>NULO</td>\n",
       "      <td>NULO</td>\n",
       "      <td>NULO</td>\n",
       "      <td>NULO</td>\n",
       "      <td>NULO</td>\n",
       "      <td>NULO</td>\n",
       "    </tr>\n",
       "    <tr>\n",
       "      <th>1</th>\n",
       "      <td>A</td>\n",
       "      <td>C</td>\n",
       "      <td>D</td>\n",
       "      <td>A</td>\n",
       "      <td>A</td>\n",
       "      <td>D</td>\n",
       "      <td>A</td>\n",
       "      <td>A</td>\n",
       "      <td>A</td>\n",
       "      <td>A</td>\n",
       "      <td>NULO</td>\n",
       "      <td>NULO</td>\n",
       "      <td>NULO</td>\n",
       "      <td>NULO</td>\n",
       "      <td>NULO</td>\n",
       "      <td>NULO</td>\n",
       "      <td>NULO</td>\n",
       "    </tr>\n",
       "    <tr>\n",
       "      <th>2</th>\n",
       "      <td>A</td>\n",
       "      <td>A</td>\n",
       "      <td>A</td>\n",
       "      <td>A</td>\n",
       "      <td>A</td>\n",
       "      <td>A</td>\n",
       "      <td>C</td>\n",
       "      <td>B</td>\n",
       "      <td>A</td>\n",
       "      <td>B</td>\n",
       "      <td>NULO</td>\n",
       "      <td>NULO</td>\n",
       "      <td>NULO</td>\n",
       "      <td>NULO</td>\n",
       "      <td>NULO</td>\n",
       "      <td>NULO</td>\n",
       "      <td>NULO</td>\n",
       "    </tr>\n",
       "    <tr>\n",
       "      <th>3</th>\n",
       "      <td>A</td>\n",
       "      <td>D</td>\n",
       "      <td>C</td>\n",
       "      <td>C</td>\n",
       "      <td>A</td>\n",
       "      <td>C</td>\n",
       "      <td>C</td>\n",
       "      <td>B</td>\n",
       "      <td>C</td>\n",
       "      <td>B</td>\n",
       "      <td>NULO</td>\n",
       "      <td>NULO</td>\n",
       "      <td>NULO</td>\n",
       "      <td>NULO</td>\n",
       "      <td>NULO</td>\n",
       "      <td>NULO</td>\n",
       "      <td>NULO</td>\n",
       "    </tr>\n",
       "    <tr>\n",
       "      <th>4</th>\n",
       "      <td>B</td>\n",
       "      <td>B</td>\n",
       "      <td>B</td>\n",
       "      <td>B</td>\n",
       "      <td>E</td>\n",
       "      <td>B</td>\n",
       "      <td>B</td>\n",
       "      <td>C</td>\n",
       "      <td>B</td>\n",
       "      <td>C</td>\n",
       "      <td>NULO</td>\n",
       "      <td>NULO</td>\n",
       "      <td>NULO</td>\n",
       "      <td>NULO</td>\n",
       "      <td>NULO</td>\n",
       "      <td>NULO</td>\n",
       "      <td>NULO</td>\n",
       "    </tr>\n",
       "    <tr>\n",
       "      <th>...</th>\n",
       "      <td>...</td>\n",
       "      <td>...</td>\n",
       "      <td>...</td>\n",
       "      <td>...</td>\n",
       "      <td>...</td>\n",
       "      <td>...</td>\n",
       "      <td>...</td>\n",
       "      <td>...</td>\n",
       "      <td>...</td>\n",
       "      <td>...</td>\n",
       "      <td>...</td>\n",
       "      <td>...</td>\n",
       "      <td>...</td>\n",
       "      <td>...</td>\n",
       "      <td>...</td>\n",
       "      <td>...</td>\n",
       "      <td>...</td>\n",
       "    </tr>\n",
       "    <tr>\n",
       "      <th>96</th>\n",
       "      <td>E</td>\n",
       "      <td>C</td>\n",
       "      <td>D</td>\n",
       "      <td>D</td>\n",
       "      <td>D</td>\n",
       "      <td>D</td>\n",
       "      <td>NULO</td>\n",
       "      <td>NULO</td>\n",
       "      <td>NULO</td>\n",
       "      <td>NULO</td>\n",
       "      <td>A</td>\n",
       "      <td>B</td>\n",
       "      <td>C</td>\n",
       "      <td>D</td>\n",
       "      <td>NULO</td>\n",
       "      <td>NULO</td>\n",
       "      <td>NULO</td>\n",
       "    </tr>\n",
       "    <tr>\n",
       "      <th>97</th>\n",
       "      <td>C</td>\n",
       "      <td>E</td>\n",
       "      <td>D</td>\n",
       "      <td>D</td>\n",
       "      <td>B</td>\n",
       "      <td>D</td>\n",
       "      <td>NULO</td>\n",
       "      <td>NULO</td>\n",
       "      <td>NULO</td>\n",
       "      <td>NULO</td>\n",
       "      <td>A</td>\n",
       "      <td>C</td>\n",
       "      <td>D</td>\n",
       "      <td>C</td>\n",
       "      <td>NULO</td>\n",
       "      <td>NULO</td>\n",
       "      <td>NULO</td>\n",
       "    </tr>\n",
       "    <tr>\n",
       "      <th>98</th>\n",
       "      <td>C</td>\n",
       "      <td>D</td>\n",
       "      <td>C</td>\n",
       "      <td>E</td>\n",
       "      <td>E</td>\n",
       "      <td>C</td>\n",
       "      <td>NULO</td>\n",
       "      <td>NULO</td>\n",
       "      <td>NULO</td>\n",
       "      <td>NULO</td>\n",
       "      <td>B</td>\n",
       "      <td>NULO</td>\n",
       "      <td>NULO</td>\n",
       "      <td>NULO</td>\n",
       "      <td>B</td>\n",
       "      <td>B</td>\n",
       "      <td>B</td>\n",
       "    </tr>\n",
       "    <tr>\n",
       "      <th>99</th>\n",
       "      <td>E</td>\n",
       "      <td>D</td>\n",
       "      <td>C</td>\n",
       "      <td>C</td>\n",
       "      <td>E</td>\n",
       "      <td>D</td>\n",
       "      <td>NULO</td>\n",
       "      <td>NULO</td>\n",
       "      <td>NULO</td>\n",
       "      <td>NULO</td>\n",
       "      <td>B</td>\n",
       "      <td>NULO</td>\n",
       "      <td>NULO</td>\n",
       "      <td>NULO</td>\n",
       "      <td>B</td>\n",
       "      <td>B</td>\n",
       "      <td>B</td>\n",
       "    </tr>\n",
       "    <tr>\n",
       "      <th>100</th>\n",
       "      <td>C</td>\n",
       "      <td>E</td>\n",
       "      <td>E</td>\n",
       "      <td>C</td>\n",
       "      <td>E</td>\n",
       "      <td>C</td>\n",
       "      <td>NULO</td>\n",
       "      <td>NULO</td>\n",
       "      <td>NULO</td>\n",
       "      <td>NULO</td>\n",
       "      <td>B</td>\n",
       "      <td>NULO</td>\n",
       "      <td>NULO</td>\n",
       "      <td>NULO</td>\n",
       "      <td>A</td>\n",
       "      <td>A</td>\n",
       "      <td>A</td>\n",
       "    </tr>\n",
       "  </tbody>\n",
       "</table>\n",
       "<p>101 rows × 17 columns</p>\n",
       "</div>"
      ],
      "text/plain": [
       "    Q1 Q2 Q3 Q4 Q5 Q6   Q7A   Q8A   Q9A  Q10A   Q7B  Q8B1  Q9B1 Q10B1  Q8B2  \\\n",
       "0    A  A  A  A  A  A     A     A     A     A  NULO  NULO  NULO  NULO  NULO   \n",
       "1    A  C  D  A  A  D     A     A     A     A  NULO  NULO  NULO  NULO  NULO   \n",
       "2    A  A  A  A  A  A     C     B     A     B  NULO  NULO  NULO  NULO  NULO   \n",
       "3    A  D  C  C  A  C     C     B     C     B  NULO  NULO  NULO  NULO  NULO   \n",
       "4    B  B  B  B  E  B     B     C     B     C  NULO  NULO  NULO  NULO  NULO   \n",
       "..  .. .. .. .. .. ..   ...   ...   ...   ...   ...   ...   ...   ...   ...   \n",
       "96   E  C  D  D  D  D  NULO  NULO  NULO  NULO     A     B     C     D  NULO   \n",
       "97   C  E  D  D  B  D  NULO  NULO  NULO  NULO     A     C     D     C  NULO   \n",
       "98   C  D  C  E  E  C  NULO  NULO  NULO  NULO     B  NULO  NULO  NULO     B   \n",
       "99   E  D  C  C  E  D  NULO  NULO  NULO  NULO     B  NULO  NULO  NULO     B   \n",
       "100  C  E  E  C  E  C  NULO  NULO  NULO  NULO     B  NULO  NULO  NULO     A   \n",
       "\n",
       "     Q9B2 Q10B2  \n",
       "0    NULO  NULO  \n",
       "1    NULO  NULO  \n",
       "2    NULO  NULO  \n",
       "3    NULO  NULO  \n",
       "4    NULO  NULO  \n",
       "..    ...   ...  \n",
       "96   NULO  NULO  \n",
       "97   NULO  NULO  \n",
       "98      B     B  \n",
       "99      B     B  \n",
       "100     A     A  \n",
       "\n",
       "[101 rows x 17 columns]"
      ]
     },
     "execution_count": 6,
     "metadata": {},
     "output_type": "execute_result"
    }
   ],
   "source": [
    "features = df.iloc[:, 1:18]\n",
    "features"
   ]
  },
  {
   "cell_type": "code",
   "execution_count": 7,
   "id": "30067709-0c89-4057-8d05-c82743df8a56",
   "metadata": {},
   "outputs": [
    {
     "data": {
      "text/plain": [
       "0            Rock\n",
       "1            Rock\n",
       "2           Metal\n",
       "3           Metal\n",
       "4      Eletronica\n",
       "          ...    \n",
       "96            MPB\n",
       "97         Gospel\n",
       "98           Jazz\n",
       "99           Jazz\n",
       "100      Classica\n",
       "Name: Genero_final, Length: 101, dtype: object"
      ]
     },
     "execution_count": 7,
     "metadata": {},
     "output_type": "execute_result"
    }
   ],
   "source": [
    "target = df.iloc[:, 18]\n",
    "target"
   ]
  },
  {
   "cell_type": "code",
   "execution_count": 8,
   "id": "eb796bbf-6210-4b77-aba2-2d3a4c66a039",
   "metadata": {},
   "outputs": [
    {
     "data": {
      "text/plain": [
       "array(['Rock', 'Metal', 'Eletronica', 'Pop', 'Sertanejo', 'MPB', 'Gospel',\n",
       "       'Jazz', 'Classica'], dtype=object)"
      ]
     },
     "execution_count": 8,
     "metadata": {},
     "output_type": "execute_result"
    }
   ],
   "source": [
    "target.unique()"
   ]
  },
  {
   "cell_type": "code",
   "execution_count": 9,
   "id": "7d34458a-235b-4ac4-8d70-9052c68b7cff",
   "metadata": {},
   "outputs": [],
   "source": [
    "from sklearn.model_selection import train_test_split\n",
    "x_train, x_test, y_train, y_test = train_test_split(features, target, test_size = 0.20, random_state = 0)"
   ]
  },
  {
   "cell_type": "code",
   "execution_count": 10,
   "id": "1a5aae2c-e592-42f8-bdd6-ff4c953ed15d",
   "metadata": {},
   "outputs": [
    {
     "data": {
      "text/plain": [
       "((80, 17), (80,))"
      ]
     },
     "execution_count": 10,
     "metadata": {},
     "output_type": "execute_result"
    }
   ],
   "source": [
    "x_train.shape, y_train.shape"
   ]
  },
  {
   "cell_type": "code",
   "execution_count": 11,
   "id": "e25f92dd-d514-4de2-adc5-34b1db3cde45",
   "metadata": {},
   "outputs": [
    {
     "data": {
      "text/plain": [
       "((21, 17), (21,))"
      ]
     },
     "execution_count": 11,
     "metadata": {},
     "output_type": "execute_result"
    }
   ],
   "source": [
    "x_test.shape, y_test.shape"
   ]
  },
  {
   "cell_type": "markdown",
   "id": "f90b84ce-eb80-40af-867d-891b458427dd",
   "metadata": {},
   "source": [
    "## Pré-processamento de dados"
   ]
  },
  {
   "cell_type": "markdown",
   "id": "288ba146-6fa4-4931-872a-e0e7146996ae",
   "metadata": {},
   "source": [
    "### One-Hot-Encoder"
   ]
  },
  {
   "cell_type": "code",
   "execution_count": 12,
   "id": "cda01c85-0f39-4351-9ab3-75d4a980dfc3",
   "metadata": {},
   "outputs": [],
   "source": [
    "from sklearn.preprocessing import OneHotEncoder\n",
    "from sklearn.compose import ColumnTransformer"
   ]
  },
  {
   "cell_type": "code",
   "execution_count": 13,
   "id": "d763cfcb-fb36-4730-9c66-c571c44fcb5c",
   "metadata": {},
   "outputs": [
    {
     "data": {
      "text/html": [
       "<div>\n",
       "<style scoped>\n",
       "    .dataframe tbody tr th:only-of-type {\n",
       "        vertical-align: middle;\n",
       "    }\n",
       "\n",
       "    .dataframe tbody tr th {\n",
       "        vertical-align: top;\n",
       "    }\n",
       "\n",
       "    .dataframe thead th {\n",
       "        text-align: right;\n",
       "    }\n",
       "</style>\n",
       "<table border=\"1\" class=\"dataframe\">\n",
       "  <thead>\n",
       "    <tr style=\"text-align: right;\">\n",
       "      <th></th>\n",
       "      <th>Q1</th>\n",
       "      <th>Q2</th>\n",
       "      <th>Q3</th>\n",
       "      <th>Q4</th>\n",
       "      <th>Q5</th>\n",
       "      <th>Q6</th>\n",
       "      <th>Q7A</th>\n",
       "      <th>Q8A</th>\n",
       "      <th>Q9A</th>\n",
       "      <th>Q10A</th>\n",
       "      <th>Q7B</th>\n",
       "      <th>Q8B1</th>\n",
       "      <th>Q9B1</th>\n",
       "      <th>Q10B1</th>\n",
       "      <th>Q8B2</th>\n",
       "      <th>Q9B2</th>\n",
       "      <th>Q10B2</th>\n",
       "    </tr>\n",
       "  </thead>\n",
       "  <tbody>\n",
       "    <tr>\n",
       "      <th>0</th>\n",
       "      <td>A</td>\n",
       "      <td>A</td>\n",
       "      <td>A</td>\n",
       "      <td>A</td>\n",
       "      <td>A</td>\n",
       "      <td>A</td>\n",
       "      <td>A</td>\n",
       "      <td>A</td>\n",
       "      <td>A</td>\n",
       "      <td>A</td>\n",
       "      <td>NULO</td>\n",
       "      <td>NULO</td>\n",
       "      <td>NULO</td>\n",
       "      <td>NULO</td>\n",
       "      <td>NULO</td>\n",
       "      <td>NULO</td>\n",
       "      <td>NULO</td>\n",
       "    </tr>\n",
       "    <tr>\n",
       "      <th>1</th>\n",
       "      <td>A</td>\n",
       "      <td>C</td>\n",
       "      <td>D</td>\n",
       "      <td>A</td>\n",
       "      <td>A</td>\n",
       "      <td>D</td>\n",
       "      <td>A</td>\n",
       "      <td>A</td>\n",
       "      <td>A</td>\n",
       "      <td>A</td>\n",
       "      <td>NULO</td>\n",
       "      <td>NULO</td>\n",
       "      <td>NULO</td>\n",
       "      <td>NULO</td>\n",
       "      <td>NULO</td>\n",
       "      <td>NULO</td>\n",
       "      <td>NULO</td>\n",
       "    </tr>\n",
       "    <tr>\n",
       "      <th>2</th>\n",
       "      <td>A</td>\n",
       "      <td>A</td>\n",
       "      <td>A</td>\n",
       "      <td>A</td>\n",
       "      <td>A</td>\n",
       "      <td>A</td>\n",
       "      <td>C</td>\n",
       "      <td>B</td>\n",
       "      <td>A</td>\n",
       "      <td>B</td>\n",
       "      <td>NULO</td>\n",
       "      <td>NULO</td>\n",
       "      <td>NULO</td>\n",
       "      <td>NULO</td>\n",
       "      <td>NULO</td>\n",
       "      <td>NULO</td>\n",
       "      <td>NULO</td>\n",
       "    </tr>\n",
       "    <tr>\n",
       "      <th>3</th>\n",
       "      <td>A</td>\n",
       "      <td>D</td>\n",
       "      <td>C</td>\n",
       "      <td>C</td>\n",
       "      <td>A</td>\n",
       "      <td>C</td>\n",
       "      <td>C</td>\n",
       "      <td>B</td>\n",
       "      <td>C</td>\n",
       "      <td>B</td>\n",
       "      <td>NULO</td>\n",
       "      <td>NULO</td>\n",
       "      <td>NULO</td>\n",
       "      <td>NULO</td>\n",
       "      <td>NULO</td>\n",
       "      <td>NULO</td>\n",
       "      <td>NULO</td>\n",
       "    </tr>\n",
       "    <tr>\n",
       "      <th>4</th>\n",
       "      <td>B</td>\n",
       "      <td>B</td>\n",
       "      <td>B</td>\n",
       "      <td>B</td>\n",
       "      <td>E</td>\n",
       "      <td>B</td>\n",
       "      <td>B</td>\n",
       "      <td>C</td>\n",
       "      <td>B</td>\n",
       "      <td>C</td>\n",
       "      <td>NULO</td>\n",
       "      <td>NULO</td>\n",
       "      <td>NULO</td>\n",
       "      <td>NULO</td>\n",
       "      <td>NULO</td>\n",
       "      <td>NULO</td>\n",
       "      <td>NULO</td>\n",
       "    </tr>\n",
       "    <tr>\n",
       "      <th>...</th>\n",
       "      <td>...</td>\n",
       "      <td>...</td>\n",
       "      <td>...</td>\n",
       "      <td>...</td>\n",
       "      <td>...</td>\n",
       "      <td>...</td>\n",
       "      <td>...</td>\n",
       "      <td>...</td>\n",
       "      <td>...</td>\n",
       "      <td>...</td>\n",
       "      <td>...</td>\n",
       "      <td>...</td>\n",
       "      <td>...</td>\n",
       "      <td>...</td>\n",
       "      <td>...</td>\n",
       "      <td>...</td>\n",
       "      <td>...</td>\n",
       "    </tr>\n",
       "    <tr>\n",
       "      <th>96</th>\n",
       "      <td>E</td>\n",
       "      <td>C</td>\n",
       "      <td>D</td>\n",
       "      <td>D</td>\n",
       "      <td>D</td>\n",
       "      <td>D</td>\n",
       "      <td>NULO</td>\n",
       "      <td>NULO</td>\n",
       "      <td>NULO</td>\n",
       "      <td>NULO</td>\n",
       "      <td>A</td>\n",
       "      <td>B</td>\n",
       "      <td>C</td>\n",
       "      <td>D</td>\n",
       "      <td>NULO</td>\n",
       "      <td>NULO</td>\n",
       "      <td>NULO</td>\n",
       "    </tr>\n",
       "    <tr>\n",
       "      <th>97</th>\n",
       "      <td>C</td>\n",
       "      <td>E</td>\n",
       "      <td>D</td>\n",
       "      <td>D</td>\n",
       "      <td>B</td>\n",
       "      <td>D</td>\n",
       "      <td>NULO</td>\n",
       "      <td>NULO</td>\n",
       "      <td>NULO</td>\n",
       "      <td>NULO</td>\n",
       "      <td>A</td>\n",
       "      <td>C</td>\n",
       "      <td>D</td>\n",
       "      <td>C</td>\n",
       "      <td>NULO</td>\n",
       "      <td>NULO</td>\n",
       "      <td>NULO</td>\n",
       "    </tr>\n",
       "    <tr>\n",
       "      <th>98</th>\n",
       "      <td>C</td>\n",
       "      <td>D</td>\n",
       "      <td>C</td>\n",
       "      <td>E</td>\n",
       "      <td>E</td>\n",
       "      <td>C</td>\n",
       "      <td>NULO</td>\n",
       "      <td>NULO</td>\n",
       "      <td>NULO</td>\n",
       "      <td>NULO</td>\n",
       "      <td>B</td>\n",
       "      <td>NULO</td>\n",
       "      <td>NULO</td>\n",
       "      <td>NULO</td>\n",
       "      <td>B</td>\n",
       "      <td>B</td>\n",
       "      <td>B</td>\n",
       "    </tr>\n",
       "    <tr>\n",
       "      <th>99</th>\n",
       "      <td>E</td>\n",
       "      <td>D</td>\n",
       "      <td>C</td>\n",
       "      <td>C</td>\n",
       "      <td>E</td>\n",
       "      <td>D</td>\n",
       "      <td>NULO</td>\n",
       "      <td>NULO</td>\n",
       "      <td>NULO</td>\n",
       "      <td>NULO</td>\n",
       "      <td>B</td>\n",
       "      <td>NULO</td>\n",
       "      <td>NULO</td>\n",
       "      <td>NULO</td>\n",
       "      <td>B</td>\n",
       "      <td>B</td>\n",
       "      <td>B</td>\n",
       "    </tr>\n",
       "    <tr>\n",
       "      <th>100</th>\n",
       "      <td>C</td>\n",
       "      <td>E</td>\n",
       "      <td>E</td>\n",
       "      <td>C</td>\n",
       "      <td>E</td>\n",
       "      <td>C</td>\n",
       "      <td>NULO</td>\n",
       "      <td>NULO</td>\n",
       "      <td>NULO</td>\n",
       "      <td>NULO</td>\n",
       "      <td>B</td>\n",
       "      <td>NULO</td>\n",
       "      <td>NULO</td>\n",
       "      <td>NULO</td>\n",
       "      <td>A</td>\n",
       "      <td>A</td>\n",
       "      <td>A</td>\n",
       "    </tr>\n",
       "  </tbody>\n",
       "</table>\n",
       "<p>101 rows × 17 columns</p>\n",
       "</div>"
      ],
      "text/plain": [
       "    Q1 Q2 Q3 Q4 Q5 Q6   Q7A   Q8A   Q9A  Q10A   Q7B  Q8B1  Q9B1 Q10B1  Q8B2  \\\n",
       "0    A  A  A  A  A  A     A     A     A     A  NULO  NULO  NULO  NULO  NULO   \n",
       "1    A  C  D  A  A  D     A     A     A     A  NULO  NULO  NULO  NULO  NULO   \n",
       "2    A  A  A  A  A  A     C     B     A     B  NULO  NULO  NULO  NULO  NULO   \n",
       "3    A  D  C  C  A  C     C     B     C     B  NULO  NULO  NULO  NULO  NULO   \n",
       "4    B  B  B  B  E  B     B     C     B     C  NULO  NULO  NULO  NULO  NULO   \n",
       "..  .. .. .. .. .. ..   ...   ...   ...   ...   ...   ...   ...   ...   ...   \n",
       "96   E  C  D  D  D  D  NULO  NULO  NULO  NULO     A     B     C     D  NULO   \n",
       "97   C  E  D  D  B  D  NULO  NULO  NULO  NULO     A     C     D     C  NULO   \n",
       "98   C  D  C  E  E  C  NULO  NULO  NULO  NULO     B  NULO  NULO  NULO     B   \n",
       "99   E  D  C  C  E  D  NULO  NULO  NULO  NULO     B  NULO  NULO  NULO     B   \n",
       "100  C  E  E  C  E  C  NULO  NULO  NULO  NULO     B  NULO  NULO  NULO     A   \n",
       "\n",
       "     Q9B2 Q10B2  \n",
       "0    NULO  NULO  \n",
       "1    NULO  NULO  \n",
       "2    NULO  NULO  \n",
       "3    NULO  NULO  \n",
       "4    NULO  NULO  \n",
       "..    ...   ...  \n",
       "96   NULO  NULO  \n",
       "97   NULO  NULO  \n",
       "98      B     B  \n",
       "99      B     B  \n",
       "100     A     A  \n",
       "\n",
       "[101 rows x 17 columns]"
      ]
     },
     "execution_count": 13,
     "metadata": {},
     "output_type": "execute_result"
    }
   ],
   "source": [
    "features.iloc[:, 0:18]"
   ]
  },
  {
   "cell_type": "code",
   "execution_count": 14,
   "id": "0bd90568-3f0e-432a-827a-ef2267d09915",
   "metadata": {},
   "outputs": [],
   "source": [
    "OHE = ColumnTransformer(transformers = [('OneHot', OneHotEncoder(), features.columns)], remainder = 'passthrough')"
   ]
  },
  {
   "cell_type": "code",
   "execution_count": 15,
   "id": "2e8c58d3-e65f-4937-8cc6-14bc287f1990",
   "metadata": {},
   "outputs": [],
   "source": [
    "x_train = OHE.fit_transform(x_train)\n",
    "x_test = OHE.transform(x_test)"
   ]
  },
  {
   "cell_type": "code",
   "execution_count": 16,
   "id": "66db8a4f-9df1-4228-a566-de56bf2e29fe",
   "metadata": {},
   "outputs": [],
   "source": [
    "# Salvando o pré-proessamento OHE\n",
    "import pickle\n",
    "with open('Pickle/OHE.pkl', 'wb') as arquivo:\n",
    "    pickle.dump(OHE, arquivo)"
   ]
  },
  {
   "cell_type": "markdown",
   "id": "6e8c1275-9dcb-4d4a-91ed-dff01d974cda",
   "metadata": {},
   "source": [
    "### Label Encoder"
   ]
  },
  {
   "cell_type": "code",
   "execution_count": 17,
   "id": "7b950545-ea15-4294-8717-b46ab6a496d7",
   "metadata": {},
   "outputs": [],
   "source": [
    "from sklearn.preprocessing import LabelEncoder\n",
    "LE = LabelEncoder()"
   ]
  },
  {
   "cell_type": "code",
   "execution_count": 18,
   "id": "b6e4eaed-68ea-4b9d-a14d-599eefebc083",
   "metadata": {},
   "outputs": [],
   "source": [
    "y_train = LE.fit_transform(y_train)\n",
    "y_test = LE.transform(y_test)"
   ]
  },
  {
   "cell_type": "code",
   "execution_count": 19,
   "id": "06e6153c-2037-4dc4-8581-bdb64830dafa",
   "metadata": {},
   "outputs": [],
   "source": [
    "# Salvando o pré-proessamento LE\n",
    "import pickle\n",
    "with open('Pickle/LE.pkl', 'wb') as arquivo:\n",
    "    pickle.dump(LE, arquivo)"
   ]
  },
  {
   "cell_type": "code",
   "execution_count": 20,
   "id": "55eaffd0-592d-4af6-b9e1-dd1bde018b31",
   "metadata": {},
   "outputs": [
    {
     "data": {
      "text/plain": [
       "((80, 73), (80,))"
      ]
     },
     "execution_count": 20,
     "metadata": {},
     "output_type": "execute_result"
    }
   ],
   "source": [
    "x_train.shape, y_train.shape"
   ]
  },
  {
   "cell_type": "code",
   "execution_count": 21,
   "id": "1ff23153-fb9e-49d6-9462-d1a247495064",
   "metadata": {},
   "outputs": [
    {
     "data": {
      "text/plain": [
       "((21, 73), (21,))"
      ]
     },
     "execution_count": 21,
     "metadata": {},
     "output_type": "execute_result"
    }
   ],
   "source": [
    "x_test.shape, y_test.shape"
   ]
  },
  {
   "cell_type": "code",
   "execution_count": 22,
   "id": "94da58eb-4cac-4e57-912b-be5be4827d27",
   "metadata": {},
   "outputs": [],
   "source": [
    "# Salvando dados pré-processados\n",
    "with open('Pickle/preprocessed_data.pkl', 'wb') as f:\n",
    "    pickle.dump([x_train, y_train, x_test, y_test], f)"
   ]
  },
  {
   "cell_type": "markdown",
   "id": "daaeb1ee-c58c-4592-ad58-5d0737f249e7",
   "metadata": {},
   "source": [
    "## Treinando o modelo (Random Forest)"
   ]
  },
  {
   "cell_type": "code",
   "execution_count": 23,
   "id": "d75e0c61-b7b6-462e-bbcd-f0c385632f43",
   "metadata": {},
   "outputs": [],
   "source": [
    "import pickle\n",
    "with open('Pickle/preprocessed_data.pkl', 'rb') as f:\n",
    "    x_train, y_train, x_test, y_test = pickle.load(f)"
   ]
  },
  {
   "cell_type": "code",
   "execution_count": 24,
   "id": "d47deb96-3ea2-4b8f-916a-272412d40a96",
   "metadata": {},
   "outputs": [],
   "source": [
    "from sklearn.ensemble import RandomForestClassifier"
   ]
  },
  {
   "cell_type": "code",
   "execution_count": 25,
   "id": "ac2af830-8005-49fd-bd00-ad58147cbde2",
   "metadata": {},
   "outputs": [
    {
     "data": {
      "text/html": [
       "<style>#sk-container-id-1 {color: black;}#sk-container-id-1 pre{padding: 0;}#sk-container-id-1 div.sk-toggleable {background-color: white;}#sk-container-id-1 label.sk-toggleable__label {cursor: pointer;display: block;width: 100%;margin-bottom: 0;padding: 0.3em;box-sizing: border-box;text-align: center;}#sk-container-id-1 label.sk-toggleable__label-arrow:before {content: \"▸\";float: left;margin-right: 0.25em;color: #696969;}#sk-container-id-1 label.sk-toggleable__label-arrow:hover:before {color: black;}#sk-container-id-1 div.sk-estimator:hover label.sk-toggleable__label-arrow:before {color: black;}#sk-container-id-1 div.sk-toggleable__content {max-height: 0;max-width: 0;overflow: hidden;text-align: left;background-color: #f0f8ff;}#sk-container-id-1 div.sk-toggleable__content pre {margin: 0.2em;color: black;border-radius: 0.25em;background-color: #f0f8ff;}#sk-container-id-1 input.sk-toggleable__control:checked~div.sk-toggleable__content {max-height: 200px;max-width: 100%;overflow: auto;}#sk-container-id-1 input.sk-toggleable__control:checked~label.sk-toggleable__label-arrow:before {content: \"▾\";}#sk-container-id-1 div.sk-estimator input.sk-toggleable__control:checked~label.sk-toggleable__label {background-color: #d4ebff;}#sk-container-id-1 div.sk-label input.sk-toggleable__control:checked~label.sk-toggleable__label {background-color: #d4ebff;}#sk-container-id-1 input.sk-hidden--visually {border: 0;clip: rect(1px 1px 1px 1px);clip: rect(1px, 1px, 1px, 1px);height: 1px;margin: -1px;overflow: hidden;padding: 0;position: absolute;width: 1px;}#sk-container-id-1 div.sk-estimator {font-family: monospace;background-color: #f0f8ff;border: 1px dotted black;border-radius: 0.25em;box-sizing: border-box;margin-bottom: 0.5em;}#sk-container-id-1 div.sk-estimator:hover {background-color: #d4ebff;}#sk-container-id-1 div.sk-parallel-item::after {content: \"\";width: 100%;border-bottom: 1px solid gray;flex-grow: 1;}#sk-container-id-1 div.sk-label:hover label.sk-toggleable__label {background-color: #d4ebff;}#sk-container-id-1 div.sk-serial::before {content: \"\";position: absolute;border-left: 1px solid gray;box-sizing: border-box;top: 0;bottom: 0;left: 50%;z-index: 0;}#sk-container-id-1 div.sk-serial {display: flex;flex-direction: column;align-items: center;background-color: white;padding-right: 0.2em;padding-left: 0.2em;position: relative;}#sk-container-id-1 div.sk-item {position: relative;z-index: 1;}#sk-container-id-1 div.sk-parallel {display: flex;align-items: stretch;justify-content: center;background-color: white;position: relative;}#sk-container-id-1 div.sk-item::before, #sk-container-id-1 div.sk-parallel-item::before {content: \"\";position: absolute;border-left: 1px solid gray;box-sizing: border-box;top: 0;bottom: 0;left: 50%;z-index: -1;}#sk-container-id-1 div.sk-parallel-item {display: flex;flex-direction: column;z-index: 1;position: relative;background-color: white;}#sk-container-id-1 div.sk-parallel-item:first-child::after {align-self: flex-end;width: 50%;}#sk-container-id-1 div.sk-parallel-item:last-child::after {align-self: flex-start;width: 50%;}#sk-container-id-1 div.sk-parallel-item:only-child::after {width: 0;}#sk-container-id-1 div.sk-dashed-wrapped {border: 1px dashed gray;margin: 0 0.4em 0.5em 0.4em;box-sizing: border-box;padding-bottom: 0.4em;background-color: white;}#sk-container-id-1 div.sk-label label {font-family: monospace;font-weight: bold;display: inline-block;line-height: 1.2em;}#sk-container-id-1 div.sk-label-container {text-align: center;}#sk-container-id-1 div.sk-container {/* jupyter's `normalize.less` sets `[hidden] { display: none; }` but bootstrap.min.css set `[hidden] { display: none !important; }` so we also need the `!important` here to be able to override the default hidden behavior on the sphinx rendered scikit-learn.org. See: https://github.com/scikit-learn/scikit-learn/issues/21755 */display: inline-block !important;position: relative;}#sk-container-id-1 div.sk-text-repr-fallback {display: none;}</style><div id=\"sk-container-id-1\" class=\"sk-top-container\"><div class=\"sk-text-repr-fallback\"><pre>RandomForestClassifier(criterion=&#x27;entropy&#x27;, n_estimators=40, random_state=0)</pre><b>In a Jupyter environment, please rerun this cell to show the HTML representation or trust the notebook. <br />On GitHub, the HTML representation is unable to render, please try loading this page with nbviewer.org.</b></div><div class=\"sk-container\" hidden><div class=\"sk-item\"><div class=\"sk-estimator sk-toggleable\"><input class=\"sk-toggleable__control sk-hidden--visually\" id=\"sk-estimator-id-1\" type=\"checkbox\" checked><label for=\"sk-estimator-id-1\" class=\"sk-toggleable__label sk-toggleable__label-arrow\">RandomForestClassifier</label><div class=\"sk-toggleable__content\"><pre>RandomForestClassifier(criterion=&#x27;entropy&#x27;, n_estimators=40, random_state=0)</pre></div></div></div></div></div>"
      ],
      "text/plain": [
       "RandomForestClassifier(criterion='entropy', n_estimators=40, random_state=0)"
      ]
     },
     "execution_count": 25,
     "metadata": {},
     "output_type": "execute_result"
    }
   ],
   "source": [
    "rf_model = RandomForestClassifier(n_estimators = 40, criterion = 'entropy', random_state = 0)\n",
    "rf_model.fit(x_train, y_train)"
   ]
  },
  {
   "cell_type": "markdown",
   "id": "52e20289-57b0-45bb-b320-83a7a26a39bb",
   "metadata": {},
   "source": [
    "## Testando o modelo"
   ]
  },
  {
   "cell_type": "code",
   "execution_count": 26,
   "id": "0afcdf31-2604-452d-aa3f-24cc1923305f",
   "metadata": {},
   "outputs": [
    {
     "data": {
      "text/plain": [
       "1.0"
      ]
     },
     "execution_count": 26,
     "metadata": {},
     "output_type": "execute_result"
    }
   ],
   "source": [
    "rf_model.score(x_test, y_test)"
   ]
  },
  {
   "cell_type": "code",
   "execution_count": 27,
   "id": "0e1eb6d5-27ca-4f00-8f84-62b2abdeac25",
   "metadata": {},
   "outputs": [],
   "source": [
    "prediction = rf_model.predict(x_test)"
   ]
  },
  {
   "cell_type": "code",
   "execution_count": 28,
   "id": "e41454ec-1184-4052-98ea-f1bc26c831fc",
   "metadata": {},
   "outputs": [
    {
     "data": {
      "text/plain": [
       "1.0"
      ]
     },
     "execution_count": 28,
     "metadata": {},
     "output_type": "execute_result"
    }
   ],
   "source": [
    "from sklearn.metrics import accuracy_score, classification_report\n",
    "round(accuracy_score(y_test, prediction), 2)"
   ]
  },
  {
   "cell_type": "code",
   "execution_count": 29,
   "id": "af650259-5e4f-4627-829b-f4c7562ab048",
   "metadata": {},
   "outputs": [
    {
     "name": "stdout",
     "output_type": "stream",
     "text": [
      "              precision    recall  f1-score   support\n",
      "\n",
      "           1       1.00      1.00      1.00         1\n",
      "           2       1.00      1.00      1.00         1\n",
      "           3       1.00      1.00      1.00         2\n",
      "           4       1.00      1.00      1.00         4\n",
      "           5       1.00      1.00      1.00         2\n",
      "           6       1.00      1.00      1.00         4\n",
      "           7       1.00      1.00      1.00         1\n",
      "           8       1.00      1.00      1.00         6\n",
      "\n",
      "    accuracy                           1.00        21\n",
      "   macro avg       1.00      1.00      1.00        21\n",
      "weighted avg       1.00      1.00      1.00        21\n",
      "\n"
     ]
    }
   ],
   "source": [
    "print(classification_report(y_test, prediction))"
   ]
  },
  {
   "cell_type": "code",
   "execution_count": 30,
   "id": "c04f41ef-2fda-4b37-b16a-bfc6ec8ecba5",
   "metadata": {},
   "outputs": [
    {
     "data": {
      "image/png": "[encoded data removed]",
      "text/plain": [
       "<Figure size 800x550 with 1 Axes>"
      ]
     },
     "metadata": {},
     "output_type": "display_data"
    }
   ],
   "source": [
    "from yellowbrick.classifier import ConfusionMatrix\n",
    "import matplotlib.pyplot as plt\n",
    "\n",
    "# Separando as classes\n",
    "label = list(LE.classes_)\n",
    "\n",
    "cm = ConfusionMatrix(rf_model, classes = label, cmap = 'Blues')\n",
    "cm.fit(x_train, y_train)\n",
    "cm.score(x_test, y_test)\n",
    "\n",
    "cm.ax.set_title(\"Matrix de confusão\")\n",
    "cm.ax.set_xlabel(\"Classe prevista\")\n",
    "cm.ax.set_ylabel(\"Classe real\")\n",
    "\n",
    "# Gráfico\n",
    "plt.tight_layout()\n",
    "plt.savefig('Confusion-Matrix-RF', dpi = 300, bbox_inches = 'tight')\n",
    "plt.show()"
   ]
  },
  {
   "cell_type": "code",
   "execution_count": 31,
   "id": "f0576a9c-c692-411f-a361-1add61d1b85f",
   "metadata": {},
   "outputs": [],
   "source": [
    "# Encoders\n",
    "import pickle\n",
    "with open('Pickle/OHE.pkl', 'rb') as arquivo:\n",
    "    OHE = pickle.load(arquivo)\n",
    "\n",
    "with open('Pickle/LE.pkl', 'rb') as arquivo:\n",
    "    LE = pickle.load(arquivo)"
   ]
  },
  {
   "cell_type": "code",
   "execution_count": 32,
   "id": "f91e8a31-6919-4f2e-bd76-8af0755d7235",
   "metadata": {},
   "outputs": [
    {
     "name": "stderr",
     "output_type": "stream",
     "text": [
      "C:\\Users\\joaop\\AppData\\Roaming\\Python\\Python38\\site-packages\\sklearn\\model_selection\\_split.py:737: UserWarning: The least populated class in y has only 9 members, which is less than n_splits=10.\n",
      "  warnings.warn(\n"
     ]
    },
    {
     "name": "stdout",
     "output_type": "stream",
     "text": [
      "Desempenho do modelo em 10 divisões: [1.0, 1.0, 1.0, 1.0, 1.0, 1.0, 1.0, 1.0, 1.0, 1.0]\n",
      "\n",
      "Média do desempenho: 1.0\n",
      "\n",
      "\n"
     ]
    }
   ],
   "source": [
    "from sklearn.model_selection import cross_val_score\n",
    "\n",
    "scores = cross_val_score(rf_model, OHE.fit_transform(features), LE.fit_transform(target), cv = 10)\n",
    "\n",
    "print(f\"Desempenho do modelo em 10 divisões: {list(scores)}\\n\")\n",
    "print(f\"Média do desempenho: {scores.mean()}\\n\\n\")"
   ]
  },
  {
   "cell_type": "markdown",
   "id": "3603026c-8222-4900-beec-0e242eb8d183",
   "metadata": {},
   "source": [
    "## Considerações finais\n",
    "O modelo foi treinado e teve **100% de acurária** durante sua validação, justamente porque os dados que foram usados para o treinamento do modelo são dados artificiais e em menor quantidade comparado com um dataset empresarial, além de que como a lógica por trás da criação dos dados do quiz foi baseada em uma árvore de decisão, logo o algoritmo **random forest** se adaptou muito bem durante o treinamento, gerando um resultado excelente."
   ]
  },
  {
   "cell_type": "code",
   "execution_count": 33,
   "id": "0209775e-35c5-47de-a160-eb7f805dfd1a",
   "metadata": {},
   "outputs": [],
   "source": [
    "# Salvando o modelo\n",
    "import pickle\n",
    "with open('Pickle/soundmatch_ml_model.pkl', 'wb') as arquivo:\n",
    "    pickle.dump(rf_model, arquivo)"
   ]
  },
  {
   "cell_type": "markdown",
   "id": "9efbf35e-49a1-4383-ad02-7cc34620f521",
   "metadata": {},
   "source": [
    "## Simulações"
   ]
  },
  {
   "cell_type": "code",
   "execution_count": 34,
   "id": "f7f3dd2a-f890-4f87-a36f-b6dafae000fb",
   "metadata": {},
   "outputs": [],
   "source": [
    "# Carregando os modelos\n",
    "import pickle\n",
    "with open('Pickle/soundmatch_ml_model.pkl', 'rb') as arquivo:\n",
    "    rf_model = pickle.load(arquivo)\n",
    "\n",
    "with open('Pickle/preprocessed_data.pkl', 'rb') as f:\n",
    "    x_train, y_train, x_test, y_test = pickle.load(f)\n",
    "\n",
    "with open('Pickle/OHE.pkl', 'rb') as arquivo:\n",
    "    OHE = pickle.load(arquivo)\n",
    "\n",
    "with open('Pickle/LE.pkl', 'rb') as arquivo:\n",
    "    LE = pickle.load(arquivo)"
   ]
  },
  {
   "cell_type": "code",
   "execution_count": 35,
   "id": "1d76e156-2855-42f1-976d-8aa32c7b4d33",
   "metadata": {},
   "outputs": [
    {
     "name": "stdout",
     "output_type": "stream",
     "text": [
      "Previsão para pessoa 1: Rock\n"
     ]
    }
   ],
   "source": [
    "import pandas as pd\n",
    "# Não precisamos mais do numpy aqui se não usarmos np.nan\n",
    "# import numpy as np\n",
    "\n",
    "# A lista de colunas deve ser a mesma do seu treino\n",
    "features = ['Q1', 'Q2', 'Q3', 'Q4', 'Q5', 'Q6', 'Q7A', 'Q8A', 'Q9A', 'Q10A',\n",
    "            'Q7B', 'Q8B1', 'Q9B1', 'Q10B1', 'Q8B2', 'Q9B2', 'Q10B2']\n",
    "\n",
    "# Simulação para o Fã de Rock (usando \"NULO\" em vez de np.nan)\n",
    "fa_de_rock = pd.DataFrame([{\n",
    "    'Q1': 'A', 'Q2': 'A', 'Q3': 'A', 'Q4': 'A', 'Q5': 'A', 'Q6': 'A',\n",
    "    'Q7A': 'A', 'Q8A': 'A', 'Q9A': 'A', 'Q10A': 'A',\n",
    "    # --- Ajuste principal aqui ---\n",
    "    'Q7B': \"NULO\", 'Q8B1': \"NULO\", 'Q9B1': \"NULO\", 'Q10B1': \"NULO\",\n",
    "    'Q8B2': \"NULO\", 'Q9B2': \"NULO\", 'Q10B2': \"NULO\"\n",
    "}], columns=features)\n",
    "\n",
    "# Agora o pré-processamento e a previsão funcionarão\n",
    "rock_transformado = OHE.transform(fa_de_rock)\n",
    "previsao_rock = rf_model.predict(rock_transformado)\n",
    "resultado_rock = LE.inverse_transform(previsao_rock)\n",
    "\n",
    "print(f\"Previsão para pessoa 1: {resultado_rock[0]}\")"
   ]
  },
  {
   "cell_type": "code",
   "execution_count": 36,
   "id": "9e399485-8c09-4f00-8252-ff5af779d81f",
   "metadata": {},
   "outputs": [
    {
     "name": "stdout",
     "output_type": "stream",
     "text": [
      "Previsão para o Fã de Metal: Metal\n"
     ]
    }
   ],
   "source": [
    "# Simulação para o Fã de Metal\n",
    "fa_de_metal = pd.DataFrame([{\n",
    "    'Q1': 'A', 'Q2': 'D', 'Q3': 'A', 'Q4': 'B', 'Q5': 'A', 'Q6': 'C',\n",
    "    'Q7A': 'C', 'Q8A': 'B', 'Q9A': 'C', 'Q10A': 'B',\n",
    "    'Q7B': \"NULO\", 'Q8B1': \"NULO\", 'Q9B1': \"NULO\", 'Q10B1': \"NULO\",\n",
    "    'Q8B2': \"NULO\", 'Q9B2': \"NULO\", 'Q10B2': \"NULO\"\n",
    "}], columns=features)\n",
    "\n",
    "# Pré-processamento e Previsão\n",
    "metal_transformado = OHE.transform(fa_de_metal)\n",
    "previsao_metal = rf_model.predict(metal_transformado)\n",
    "resultado_metal = LE.inverse_transform(previsao_metal)\n",
    "\n",
    "print(f\"Previsão para o Fã de Metal: {resultado_metal[0]}\")"
   ]
  },
  {
   "cell_type": "code",
   "execution_count": 37,
   "id": "7be5da88-adde-45f9-9c14-a3a16ede5904",
   "metadata": {},
   "outputs": [
    {
     "name": "stdout",
     "output_type": "stream",
     "text": [
      "Previsão para o Fã de Eletrônica: Eletronica\n"
     ]
    }
   ],
   "source": [
    "# Simulação para o Fã de Eletrônica\n",
    "fa_de_eletronica = pd.DataFrame([{\n",
    "    'Q1': 'B', 'Q2': 'B', 'Q3': 'B', 'Q4': 'B', 'Q5': 'E', 'Q6': 'B',\n",
    "    'Q7A': 'B', 'Q8A': 'C', 'Q9A': 'B', 'Q10A': 'C',\n",
    "    'Q7B': \"NULO\", 'Q8B1': \"NULO\", 'Q9B1': \"NULO\", 'Q10B1': \"NULO\",\n",
    "    'Q8B2': \"NULO\", 'Q9B2': \"NULO\", 'Q10B2': \"NULO\"\n",
    "}], columns=features)\n",
    "\n",
    "# Pré-processamento e Previsão\n",
    "eletronica_transformado = OHE.transform(fa_de_eletronica)\n",
    "previsao_eletronica = rf_model.predict(eletronica_transformado)\n",
    "resultado_eletronica = LE.inverse_transform(previsao_eletronica)\n",
    "\n",
    "print(f\"Previsão para o Fã de Eletrônica: {resultado_eletronica[0]}\")"
   ]
  },
  {
   "cell_type": "code",
   "execution_count": 38,
   "id": "b0610c7a-59f2-4988-8611-aea0ddbf82bf",
   "metadata": {},
   "outputs": [
    {
     "name": "stdout",
     "output_type": "stream",
     "text": [
      "Previsão para o Fã de Pop: Pop\n"
     ]
    }
   ],
   "source": [
    "# Simulação para o Fã de Pop\n",
    "fa_de_pop = pd.DataFrame([{\n",
    "    'Q1': 'D', 'Q2': 'B', 'Q3': 'B', 'Q4': 'A', 'Q5': 'B', 'Q6': 'D',\n",
    "    'Q7A': \"NULO\", 'Q8A': \"NULO\", 'Q9A': \"NULO\", 'Q10A': \"NULO\",\n",
    "    'Q7B': 'A',\n",
    "    'Q8B1': 'A', 'Q9B1': 'A', 'Q10B1': 'A',\n",
    "    'Q8B2': \"NULO\", 'Q9B2': \"NULO\", 'Q10B2': \"NULO\"\n",
    "}], columns=features)\n",
    "\n",
    "# Pré-processamento e Previsão\n",
    "pop_transformado = OHE.transform(fa_de_pop)\n",
    "previsao_pop = rf_model.predict(pop_transformado)\n",
    "resultado_pop = LE.inverse_transform(previsao_pop)\n",
    "\n",
    "print(f\"Previsão para o Fã de Pop: {resultado_pop[0]}\")"
   ]
  },
  {
   "cell_type": "code",
   "execution_count": 39,
   "id": "6c75b4d2-e35d-4d9c-8fb6-d77f5f4874d6",
   "metadata": {},
   "outputs": [
    {
     "name": "stdout",
     "output_type": "stream",
     "text": [
      "Previsão para o Fã de Sertanejo: Sertanejo\n"
     ]
    }
   ],
   "source": [
    "# Simulação para o Fã de Sertanejo\n",
    "fa_de_sertanejo = pd.DataFrame([{\n",
    "    'Q1': 'D', 'Q2': 'C', 'Q3': 'D', 'Q4': 'D', 'Q5': 'B', 'Q6': 'D',\n",
    "    'Q7A': \"NULO\", 'Q8A': \"NULO\", 'Q9A': \"NULO\", 'Q10A': \"NULO\",\n",
    "    'Q7B': 'A',\n",
    "    'Q8B1': 'A', 'Q9B1': 'B', 'Q10B1': 'B',\n",
    "    'Q8B2': \"NULO\", 'Q9B2': \"NULO\", 'Q10B2': \"NULO\"\n",
    "}], columns=features)\n",
    "\n",
    "# Pré-processamento e Previsão\n",
    "sertanejo_transformado = OHE.transform(fa_de_sertanejo)\n",
    "previsao_sertanejo = rf_model.predict(sertanejo_transformado)\n",
    "resultado_sertanejo = LE.inverse_transform(previsao_sertanejo)\n",
    "\n",
    "print(f\"Previsão para o Fã de Sertanejo: {resultado_sertanejo[0]}\")"
   ]
  },
  {
   "cell_type": "code",
   "execution_count": 40,
   "id": "1e0f3d2e-b4b5-4510-b4ef-38652c53fe28",
   "metadata": {},
   "outputs": [
    {
     "name": "stdout",
     "output_type": "stream",
     "text": [
      "Previsão para o Fã de MPB: MPB\n"
     ]
    }
   ],
   "source": [
    "# Simulação para o Fã de MPB\n",
    "fa_de_mpb = pd.DataFrame([{\n",
    "    'Q1': 'D', 'Q2': 'C', 'Q3': 'D', 'Q4': 'D', 'Q5': 'D', 'Q6': 'D',\n",
    "    'Q7A': \"NULO\", 'Q8A': \"NULO\", 'Q9A': \"NULO\", 'Q10A': \"NULO\",\n",
    "    'Q7B': 'A',\n",
    "    'Q8B1': 'B', 'Q9B1': 'C', 'Q10B1': 'D',\n",
    "    'Q8B2': \"NULO\", 'Q9B2': \"NULO\", 'Q10B2': \"NULO\"\n",
    "}], columns=features)\n",
    "\n",
    "# Pré-processamento e Previsão\n",
    "mpb_transformado = OHE.transform(fa_de_mpb)\n",
    "previsao_mpb = rf_model.predict(mpb_transformado)\n",
    "resultado_mpb = LE.inverse_transform(previsao_mpb)\n",
    "\n",
    "print(f\"Previsão para o Fã de MPB: {resultado_mpb[0]}\")"
   ]
  },
  {
   "cell_type": "code",
   "execution_count": 41,
   "id": "72eae3de-3749-457d-9369-04ba0428fcfd",
   "metadata": {},
   "outputs": [
    {
     "name": "stdout",
     "output_type": "stream",
     "text": [
      "Previsão para o Fã de Jazz: Jazz\n"
     ]
    }
   ],
   "source": [
    "# Simulação para o Fã de Jazz\n",
    "fa_de_jazz = pd.DataFrame([{\n",
    "    'Q1': 'C', 'Q2': 'D', 'Q3': 'C', 'Q4': 'C', 'Q5': 'E', 'Q6': 'C',\n",
    "    'Q7A': \"NULO\", 'Q8A': \"NULO\", 'Q9A': \"NULO\", 'Q10A': \"NULO\",\n",
    "    'Q7B': 'B',\n",
    "    'Q8B1': \"NULO\", 'Q9B1': \"NULO\", 'Q10B1': \"NULO\",\n",
    "    'Q8B2': 'B', 'Q9B2': 'B', 'Q10B2': 'B'\n",
    "}], columns=features)\n",
    "\n",
    "# Pré-processamento e Previsão\n",
    "jazz_transformado = OHE.transform(fa_de_jazz)\n",
    "previsao_jazz = rf_model.predict(jazz_transformado)\n",
    "resultado_jazz = LE.inverse_transform(previsao_jazz)\n",
    "\n",
    "print(f\"Previsão para o Fã de Jazz: {resultado_jazz[0]}\")"
   ]
  },
  {
   "cell_type": "code",
   "execution_count": 42,
   "id": "a76ce04b-241d-46db-9e94-74908a6cc91b",
   "metadata": {},
   "outputs": [
    {
     "name": "stdout",
     "output_type": "stream",
     "text": [
      "Previsão para a Pessoa Indecisa: Pop\n"
     ]
    }
   ],
   "source": [
    "# Simulação para a Pessoa Indecisa\n",
    "pessoa_indecisa = pd.DataFrame([{\n",
    "    'Q1': 'D', 'Q2': 'A', 'Q3': 'B', 'Q4': 'D', 'Q5': 'B', 'Q6': 'D',\n",
    "    'Q7A': \"NULO\", 'Q8A': \"NULO\", 'Q9A': \"NULO\", 'Q10A': \"NULO\",\n",
    "    'Q7B': 'A',\n",
    "    'Q8B1': 'A', 'Q9B1': 'A', 'Q10B1': 'A',\n",
    "    'Q8B2': \"NULO\", 'Q9B2': \"NULO\", 'Q10B2': \"NULO\"\n",
    "}], columns=features)\n",
    "\n",
    "# Pré-processamento e Previsão\n",
    "indecisa_transformado = OHE.transform(pessoa_indecisa)\n",
    "previsao_indecisa = rf_model.predict(indecisa_transformado)\n",
    "resultado_indecisa = LE.inverse_transform(previsao_indecisa)\n",
    "\n",
    "print(f\"Previsão para a Pessoa Indecisa: {resultado_indecisa[0]}\")"
   ]
  },
  {
   "cell_type": "code",
   "execution_count": 43,
   "id": "707efd74-bab2-4d3f-8713-ac3afe891765",
   "metadata": {},
   "outputs": [
    {
     "name": "stdout",
     "output_type": "stream",
     "text": [
      "Previsão para o Frequentador de Academia: Eletronica\n"
     ]
    }
   ],
   "source": [
    "# Simulação para o Frequentador de Academia\n",
    "pessoa_academia = pd.DataFrame([{\n",
    "    # Acumula 4 pontos para o Ramo A vs. 2 para o Ramo B\n",
    "    'Q1': 'B', # Batidas eletrônicas (Ramo A)\n",
    "    'Q2': 'E', # Como som de fundo (Ramo B)\n",
    "    'Q3': 'A', # Extravasar energia (Ramo A)\n",
    "    'Q4': 'B', # A batida forte (Ramo A)\n",
    "    'Q5': 'E', # Prefiro instrumentais (Ramo B)\n",
    "    'Q6': 'B', # Produção inovadora (Ramo A)\n",
    "    # --- Perguntas Ramo A ---\n",
    "    'Q7A': 'B', 'Q8A': 'C', 'Q9A': 'B', 'Q10A': 'C',\n",
    "    # --- Perguntas Ramo B (não respondidas) ---\n",
    "    'Q7B': \"NULO\", 'Q8B1': \"NULO\", 'Q9B1': \"NULO\", 'Q10B1': \"NULO\",\n",
    "    'Q8B2': \"NULO\", 'Q9B2': \"NULO\", 'Q10B2': \"NULO\"\n",
    "}], columns=features)\n",
    "\n",
    "# Pré-processamento e Previsão\n",
    "academia_transformado = OHE.transform(pessoa_academia)\n",
    "previsao_academia = rf_model.predict(academia_transformado)\n",
    "resultado_academia = LE.inverse_transform(previsao_academia)\n",
    "\n",
    "print(f\"Previsão para o Frequentador de Academia: {resultado_academia[0]}\")"
   ]
  },
  {
   "cell_type": "code",
   "execution_count": 44,
   "id": "acdc80d6-7daf-49cb-a7e3-d6a717ce3350",
   "metadata": {},
   "outputs": [
    {
     "name": "stdout",
     "output_type": "stream",
     "text": [
      "Previsão para o Rocker Poético: Rock\n"
     ]
    }
   ],
   "source": [
    "# Simulação para o Rocker Poético\n",
    "rocker_poetico = pd.DataFrame([{\n",
    "    # Acumula 4 pontos para o Ramo A vs. 2 para o Ramo B\n",
    "    'Q1': 'A', # Guitarras elétricas (Ramo A)\n",
    "    'Q2': 'D', # Sozinho com fones (Ramo B)\n",
    "    'Q3': 'A', # Extravasar energia (Ramo A)\n",
    "    'Q4': 'D', # A letra poética (Ramo B)\n",
    "    'Q5': 'A', # Vocais potentes (Ramo A)\n",
    "    'Q6': 'A', # Um riff de guitarra (Ramo A)\n",
    "    # --- Perguntas Ramo A ---\n",
    "    'Q7A': 'A', 'Q8A': 'A', 'Q9A': 'A', 'Q10A': 'A',\n",
    "    # --- Perguntas Ramo B (não respondidas) ---\n",
    "    'Q7B': \"NULO\", 'Q8B1': \"NULO\", 'Q9B1': \"NULO\", 'Q10B1': \"NULO\",\n",
    "    'Q8B2': \"NULO\", 'Q9B2': \"NULO\", 'Q10B2': \"NULO\"\n",
    "}], columns=features)\n",
    "\n",
    "# Pré-processamento e Previsão\n",
    "rocker_transformado = OHE.transform(rocker_poetico)\n",
    "previsao_rocker = rf_model.predict(rocker_transformado)\n",
    "resultado_rocker = LE.inverse_transform(previsao_rocker)\n",
    "\n",
    "print(f\"Previsão para o Rocker Poético: {resultado_rocker[0]}\")"
   ]
  },
  {
   "cell_type": "code",
   "execution_count": 45,
   "id": "32bedb91-3788-4e15-b16a-8e2c33e6c225",
   "metadata": {},
   "outputs": [
    {
     "name": "stdout",
     "output_type": "stream",
     "text": [
      "Previsão para o Cantor de Viagem: Sertanejo\n"
     ]
    }
   ],
   "source": [
    "# Simulação para o Cantor de Viagem\n",
    "cantor_de_viagem = pd.DataFrame([{\n",
    "    # Acumula 4 pontos para o Ramo B vs. 2 para o Ramo A\n",
    "    'Q1': 'D', # A voz humana (Ramo B)\n",
    "    'Q2': 'A', # Em um grande show (Ramo A)\n",
    "    'Q3': 'D', # Conectar-se com sentimentos (Ramo B)\n",
    "    'Q4': 'D', # A letra poética (Ramo B)\n",
    "    'Q5': 'B', # Vocais melódicos e limpos (Ramo B)\n",
    "    'Q6': 'A', # Um riff de guitarra/violão (Ramo A)\n",
    "    # --- Perguntas Ramo A (não respondidas) ---\n",
    "    'Q7A': \"NULO\", 'Q8A': \"NULO\", 'Q9A': \"NULO\", 'Q10A': \"NULO\",\n",
    "    # --- Perguntas Ramo B ---\n",
    "    'Q7B': 'A',\n",
    "    'Q8B1': 'A', 'Q9B1': 'B', 'Q10B1': 'B',\n",
    "    'Q8B2': \"NULO\", 'Q9B2': \"NULO\", 'Q10B2': \"NULO\"\n",
    "}], columns=features)\n",
    "\n",
    "# Pré-processamento e Previsão\n",
    "viagem_transformado = OHE.transform(cantor_de_viagem)\n",
    "previsao_viagem = rf_model.predict(viagem_transformado)\n",
    "resultado_viagem = LE.inverse_transform(previsao_viagem)\n",
    "\n",
    "print(f\"Previsão para o Cantor de Viagem: {resultado_viagem[0]}\")"
   ]
  },
  {
   "cell_type": "code",
   "execution_count": 46,
   "id": "e5860592-7a14-45be-acb3-a9eebaef1ad6",
   "metadata": {},
   "outputs": [
    {
     "name": "stdout",
     "output_type": "stream",
     "text": [
      "Previsão para o Ouvinte de Cafeteria: Jazz\n"
     ]
    }
   ],
   "source": [
    "# Simulação para o Ouvinte de Cafeteria\n",
    "ouvinte_cafeteria = pd.DataFrame([{\n",
    "    # Acumula 5 pontos para o Ramo B vs. 1 para o Ramo A\n",
    "    'Q1': 'C', # Virtuosidade de instrumentos (Ramo B)\n",
    "    'Q2': 'E', # Como som de fundo (Ramo B)\n",
    "    'Q3': 'E', # Relaxar a mente (Ramo B)\n",
    "    'Q4': 'E', # A atmosfera que ela cria (Ramo B)\n",
    "    'Q5': 'E', # Prefiro instrumentais (Ramo B)\n",
    "    'Q6': 'B', # A produção inovadora (Ramo A)\n",
    "    # --- Perguntas Ramo A (não respondidas) ---\n",
    "    'Q7A': \"NULO\", 'Q8A': \"NULO\", 'Q9A': \"NULO\", 'Q10A': \"NULO\",\n",
    "    # --- Perguntas Ramo B ---\n",
    "    'Q7B': 'B',\n",
    "    'Q8B1': \"NULO\", 'Q9B1': \"NULO\", 'Q10B1': \"NULO\",\n",
    "    'Q8B2': 'B', 'Q9B2': 'B', 'Q10B2': 'B'\n",
    "}], columns=features)\n",
    "\n",
    "# Pré-processamento e Previsão\n",
    "cafeteria_transformado = OHE.transform(ouvinte_cafeteria)\n",
    "previsao_cafeteria = rf_model.predict(cafeteria_transformado)\n",
    "resultado_cafeteria = LE.inverse_transform(previsao_cafeteria)\n",
    "\n",
    "print(f\"Previsão para o Ouvinte de Cafeteria: {resultado_cafeteria[0]}\")"
   ]
  },
  {
   "cell_type": "code",
   "execution_count": null,
   "id": "dabaff1e-f65c-468e-9a90-bdd9c54e7d89",
   "metadata": {},
   "outputs": [],
   "source": []
  }
 ],
 "metadata": {
  "kernelspec": {
   "display_name": "Python 3 (ipykernel)",
   "language": "python",
   "name": "python3"
  },
  "language_info": {
   "codemirror_mode": {
    "name": "ipython",
    "version": 3
   },
   "file_extension": ".py",
   "mimetype": "text/x-python",
   "name": "python",
   "nbconvert_exporter": "python",
   "pygments_lexer": "ipython3",
   "version": "3.8.2"
  }
 },
 "nbformat": 4,
 "nbformat_minor": 5
}
